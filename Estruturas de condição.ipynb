{
 "cells": [
  {
   "cell_type": "markdown",
   "metadata": {},
   "source": [
    "**ESTRUTURAS DE CONDIÇÃO**"
   ]
  },
  {
   "cell_type": "markdown",
   "metadata": {},
   "source": [
    "Fazer uma classificação de acordo com o número de casos\n",
    "- VERDE: Uma situação mais controlada\n",
    "- AMARELO: Uma situação de alerta\n",
    "- VERMELHO: Uma situação mais grave"
   ]
  },
  {
   "cell_type": "code",
   "execution_count": 2,
   "metadata": {},
   "outputs": [],
   "source": [
    "covid_ontem = {'AC':195, 'AL':210, 'AP': 457, 'AM':2270,'BA':1489, 'CE':3716}\n",
    "covid_hoje = {'AC':279, 'AL':554, 'AP': 798, 'AM':3833,'BA':2209, 'CE':5833}"
   ]
  },
  {
   "cell_type": "code",
   "execution_count": 5,
   "metadata": {},
   "outputs": [
    {
     "name": "stdout",
     "output_type": "stream",
     "text": [
      "O estado AC apresenta 279 casos e está no alerta AMARELO\n",
      "O estado AL apresenta 554 casos e está no alerta AMARELO\n",
      "O estado AP apresenta 798 casos e está no alerta AMARELO\n",
      "O estado AM apresenta 3833 casos e está no alerta VERMELHO\n",
      "O estado BA apresenta 2209 casos e está no alerta VERMELHO\n",
      "O estado CE apresenta 5833 casos e está no alerta VERMELHO\n"
     ]
    }
   ],
   "source": [
    "for estado, casos in covid_hoje.items():\n",
    "    if casos <= 200:\n",
    "        print(f'O estado {estado} apresenta {casos} casos e está no alerta VERDE')\n",
    "    elif casos >200 and casos <= 1000:\n",
    "        print(f'O estado {estado} apresenta {casos} casos e está no alerta AMARELO')\n",
    "    else:\n",
    "        print(f'O estado {estado} apresenta {casos} casos e está no alerta VERMELHO')"
   ]
  },
  {
   "cell_type": "code",
   "execution_count": null,
   "metadata": {},
   "outputs": [],
   "source": []
  }
 ],
 "metadata": {
  "kernelspec": {
   "display_name": "Python 3",
   "language": "python",
   "name": "python3"
  },
  "language_info": {
   "codemirror_mode": {
    "name": "ipython",
    "version": 3
   },
   "file_extension": ".py",
   "mimetype": "text/x-python",
   "name": "python",
   "nbconvert_exporter": "python",
   "pygments_lexer": "ipython3",
   "version": "3.8.5"
  }
 },
 "nbformat": 4,
 "nbformat_minor": 4
}
