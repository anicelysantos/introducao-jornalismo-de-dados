{
 "cells": [
  {
   "cell_type": "markdown",
   "metadata": {},
   "source": [
    "**FOR**"
   ]
  },
  {
   "cell_type": "code",
   "execution_count": 1,
   "metadata": {},
   "outputs": [],
   "source": [
    "covid = {'AC':195, 'AL':210, 'AP': 457, 'AM':2270,'BA':1489, 'CE':3716}"
   ]
  },
  {
   "cell_type": "code",
   "execution_count": 5,
   "metadata": {},
   "outputs": [
    {
     "name": "stdout",
     "output_type": "stream",
     "text": [
      "BA 1489\n"
     ]
    }
   ],
   "source": [
    "for estado, casos in covid.items():\n",
    "    if 'BA' in estado:\n",
    "        print(estado, casos)"
   ]
  },
  {
   "cell_type": "code",
   "execution_count": 6,
   "metadata": {},
   "outputs": [],
   "source": [
    "for estado, casos in covid.items():\n",
    "    if 'BA' in estado:\n",
    "        ba = estado\n",
    "        num_ba = casos"
   ]
  },
  {
   "cell_type": "code",
   "execution_count": 7,
   "metadata": {},
   "outputs": [
    {
     "name": "stdout",
     "output_type": "stream",
     "text": [
      "O total de casos de covid na BA é 1489\n"
     ]
    }
   ],
   "source": [
    "print(f'O total de casos de covid na {ba} é {num_ba}')"
   ]
  },
  {
   "cell_type": "markdown",
   "metadata": {},
   "source": [
    "**AUMENTO DE CASOS EM RELAÇÃO A SEMANA ANTERIOR**"
   ]
  },
  {
   "cell_type": "code",
   "execution_count": 41,
   "metadata": {},
   "outputs": [],
   "source": [
    "covid_ontem = {'AC':195, 'AL':210, 'AP': 457, 'AM':2270,'BA':1489, 'CE':3716}\n",
    "covid_hoje = {'AC':279, 'AL':554, 'AP': 798, 'AM':3833,'BA':2209, 'CE':5833}"
   ]
  },
  {
   "cell_type": "code",
   "execution_count": 42,
   "metadata": {},
   "outputs": [
    {
     "name": "stdout",
     "output_type": "stream",
     "text": [
      "8337\n"
     ]
    }
   ],
   "source": [
    "total_ontem = 0\n",
    "\n",
    "for soma in covid_ontem.values(): #somando o total de casos de ontem\n",
    "    total_ontem = total_ontem + soma\n",
    "print(total_ontem)"
   ]
  },
  {
   "cell_type": "code",
   "execution_count": 43,
   "metadata": {},
   "outputs": [
    {
     "name": "stdout",
     "output_type": "stream",
     "text": [
      "13506\n"
     ]
    }
   ],
   "source": [
    "total_hoje = 0\n",
    "\n",
    "for soma in covid_hoje.values(): #somando o total de casos de ontem\n",
    "    total_hoje = total_hoje + soma\n",
    "print(total_hoje)"
   ]
  },
  {
   "cell_type": "code",
   "execution_count": 47,
   "metadata": {},
   "outputs": [
    {
     "data": {
      "text/plain": [
       "62.000719683339334"
      ]
     },
     "execution_count": 47,
     "metadata": {},
     "output_type": "execute_result"
    }
   ],
   "source": [
    "total_porc = (total_hoje - total_ontem)/total_ontem*100 #porcentagem de casos\n",
    "total_porc"
   ]
  },
  {
   "cell_type": "code",
   "execution_count": 49,
   "metadata": {},
   "outputs": [
    {
     "name": "stdout",
     "output_type": "stream",
     "text": [
      "O aumento do numero de casos de covid em relação a semana passada foi 62.00%)\n"
     ]
    }
   ],
   "source": [
    "print(f'O aumento do numero de casos de covid em relação a semana passada foi {total_porc:.2F}%)')"
   ]
  },
  {
   "cell_type": "code",
   "execution_count": null,
   "metadata": {},
   "outputs": [],
   "source": []
  }
 ],
 "metadata": {
  "kernelspec": {
   "display_name": "Python 3",
   "language": "python",
   "name": "python3"
  },
  "language_info": {
   "codemirror_mode": {
    "name": "ipython",
    "version": 3
   },
   "file_extension": ".py",
   "mimetype": "text/x-python",
   "name": "python",
   "nbconvert_exporter": "python",
   "pygments_lexer": "ipython3",
   "version": "3.8.5"
  }
 },
 "nbformat": 4,
 "nbformat_minor": 4
}
